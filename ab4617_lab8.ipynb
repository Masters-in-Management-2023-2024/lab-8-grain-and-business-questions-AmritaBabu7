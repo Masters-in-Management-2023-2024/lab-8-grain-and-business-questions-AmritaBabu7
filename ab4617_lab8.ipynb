{
  "cells": [
    {
      "cell_type": "markdown",
      "metadata": {
        "id": "7BHMWwbB8UN5"
      },
      "source": [
        "# Diamond Company Analytics Challenge\n",
        "\n",
        "**Time:** 35 minutes\n",
        "\n",
        "**Scenario:** You are the new data analyst at a prestigious diamond company. The CEO has called an urgent meeting and needs answers to critical business questions about the inventory.\n",
        "\n",
        "**Your Mission:** Analyze the diamond inventory data and provide insights to guide strategic decisions."
      ]
    },
    {
      "cell_type": "code",
      "execution_count": 7,
      "metadata": {
        "colab": {
          "base_uri": "https://localhost:8080/"
        },
        "id": "Uj2uWyyz8UN7",
        "outputId": "e175313b-abe2-4852-9f6d-323502314e18"
      },
      "outputs": [
        {
          "output_type": "stream",
          "name": "stdout",
          "text": [
            "Loading diamonds dataset...\n",
            "Dataset loaded successfully!\n",
            "shape: (5, 8)\n",
            "┌──────────────┬───────┬───────┬─────────┬────────┬──────────┬────────┬───────┐\n",
            "│ Carat Weight ┆ Cut   ┆ Color ┆ Clarity ┆ Polish ┆ Symmetry ┆ Report ┆ Price │\n",
            "│ ---          ┆ ---   ┆ ---   ┆ ---     ┆ ---    ┆ ---      ┆ ---    ┆ ---   │\n",
            "│ f64          ┆ str   ┆ str   ┆ str     ┆ str    ┆ str      ┆ str    ┆ i64   │\n",
            "╞══════════════╪═══════╪═══════╪═════════╪════════╪══════════╪════════╪═══════╡\n",
            "│ 1.1          ┆ Ideal ┆ H     ┆ SI1     ┆ VG     ┆ EX       ┆ GIA    ┆ 5169  │\n",
            "│ 0.83         ┆ Ideal ┆ H     ┆ VS1     ┆ ID     ┆ ID       ┆ AGSL   ┆ 3470  │\n",
            "│ 0.85         ┆ Ideal ┆ H     ┆ SI1     ┆ EX     ┆ EX       ┆ GIA    ┆ 3183  │\n",
            "│ 0.91         ┆ Ideal ┆ E     ┆ SI1     ┆ VG     ┆ VG       ┆ GIA    ┆ 4370  │\n",
            "│ 0.83         ┆ Ideal ┆ G     ┆ SI1     ┆ EX     ┆ EX       ┆ GIA    ┆ 3171  │\n",
            "└──────────────┴───────┴───────┴─────────┴────────┴──────────┴────────┴───────┘\n"
          ]
        }
      ],
      "source": [
        "import polars as pl\n",
        "\n",
        "# Load the diamonds dataset\n",
        "print(\"Loading diamonds dataset...\")\n",
        "df = pl.read_csv('https://raw.githubusercontent.com/pycaret/pycaret/master/datasets/diamond.csv')\n",
        "print(\"Dataset loaded successfully!\")\n",
        "print(df.head())"
      ]
    },
    {
      "cell_type": "markdown",
      "metadata": {
        "id": "K16Us7g78UN8"
      },
      "source": [
        "## Section 1: Initial Inventory Assessment (5 minutes)\n",
        "\n",
        "The CEO walks in: \"Before we dive into specifics, I need to understand what we're working with. Give me the basics about our inventory database.\""
      ]
    },
    {
      "cell_type": "markdown",
      "metadata": {
        "id": "A-1Q1KEo8UN8"
      },
      "source": [
        "### Question 1: \"How extensive is our inventory database?\"\n",
        "\n",
        "The CEO needs to know the scale of data you're analyzing."
      ]
    },
    {
      "cell_type": "code",
      "execution_count": 2,
      "metadata": {
        "colab": {
          "base_uri": "https://localhost:8080/"
        },
        "id": "mhJA7ZGw8UN9",
        "outputId": "9fa2357b-5a4d-4098-d42a-dddda6a87434"
      },
      "outputs": [
        {
          "output_type": "stream",
          "name": "stdout",
          "text": [
            "Shape: (6000, 8)\n",
            "Columns: ['Carat Weight', 'Cut', 'Color', 'Clarity', 'Polish', 'Symmetry', 'Report', 'Price']\n"
          ]
        }
      ],
      "source": [
        "print(f\"Shape: {df.shape}\")\n",
        "\n"
      ]
    },
    {
      "cell_type": "markdown",
      "metadata": {
        "id": "BCbnxvZB8UN9"
      },
      "source": [
        "### Question 2: \"What information do we track about each diamond?\"\n",
        "\n",
        "List all the characteristics we record."
      ]
    },
    {
      "cell_type": "code",
      "execution_count": 3,
      "metadata": {
        "colab": {
          "base_uri": "https://localhost:8080/"
        },
        "id": "zYDvqdDq8UN9",
        "outputId": "df82a0bb-c40d-48a2-8ba3-0656a712c46a"
      },
      "outputs": [
        {
          "output_type": "stream",
          "name": "stdout",
          "text": [
            "Columns: ['Carat Weight', 'Cut', 'Color', 'Clarity', 'Polish', 'Symmetry', 'Report', 'Price']\n"
          ]
        }
      ],
      "source": [
        "print(f\"Columns: {df.columns}\")\n"
      ]
    },
    {
      "cell_type": "markdown",
      "metadata": {
        "id": "v8M2qmbl8UN9"
      },
      "source": [
        "### Question 3: \"When I look at one line in this database, what am I looking at?\"\n",
        "\n",
        "Explain in business terms:"
      ]
    },
    {
      "cell_type": "code",
      "source": [
        "print(f\"Total number of rows: {len(df)}\")\n",
        "print(\"\\nEach row represents: ONE DIAMOND\")\n",
        "print(\"This is our current grain: diamond-level data\")"
      ],
      "metadata": {
        "colab": {
          "base_uri": "https://localhost:8080/"
        },
        "id": "g0Tp5iXx9eM3",
        "outputId": "31df7b84-8aee-4943-dc1b-dd120d8c4f30"
      },
      "execution_count": 4,
      "outputs": [
        {
          "output_type": "stream",
          "name": "stdout",
          "text": [
            "Total number of rows: 6000\n",
            "\n",
            "Each row represents: ONE DIAMOND\n",
            "This is our current grain: diamond-level data\n"
          ]
        }
      ]
    },
    {
      "cell_type": "markdown",
      "metadata": {
        "id": "vN73ldV88UOS"
      },
      "source": [
        "**Your answer:** Each row represents:"
      ]
    },
    {
      "cell_type": "markdown",
      "metadata": {
        "id": "vJ2Y-AqN8UOS"
      },
      "source": [
        "## Section 2: Strategic Business Questions (20 minutes)\n",
        "\n",
        "The CEO continues: \"Now let's get to the important questions. Our board meeting is tomorrow and I need concrete numbers.\""
      ]
    },
    {
      "cell_type": "markdown",
      "metadata": {
        "id": "iSGtGU2B8UOT"
      },
      "source": [
        "### Question 4: \"We're considering expanding our storage facilities. How many total carats do we have in inventory? I need to know if our vaults can handle the weight.\"\n",
        "\n",
        "Think about what measurement would help answer this."
      ]
    },
    {
      "cell_type": "code",
      "execution_count": 10,
      "metadata": {
        "colab": {
          "base_uri": "https://localhost:8080/"
        },
        "id": "aaz7SEJk8UOT",
        "outputId": "b6a8b4c2-11d6-4656-f637-baf5a1ec43b1"
      },
      "outputs": [
        {
          "output_type": "stream",
          "name": "stdout",
          "text": [
            "Total carat weight of all diamonds: $8,007.12\n"
          ]
        }
      ],
      "source": [
        "total_carats = df.select(pl.col(\"Carat Weight\").sum()).item()\n",
        "print(f\"Total carat weight of all diamonds: ${total_carats:,.2f}\")\n"
      ]
    },
    {
      "cell_type": "markdown",
      "metadata": {
        "id": "NSZP4NsI8UOW"
      },
      "source": [
        "### Question 5: \"Our new marketing campaign claims we have 'the widest variety of cuts in the industry.' Can you verify this?\"\n",
        "\n",
        "The CEO wants to know about variety, not quantity."
      ]
    },
    {
      "cell_type": "code",
      "execution_count": 24,
      "metadata": {
        "colab": {
          "base_uri": "https://localhost:8080/"
        },
        "id": "8ohdJOOD8UOg",
        "outputId": "0d8a13f0-c3c5-4da3-a9dc-fce4ec0bad62"
      },
      "outputs": [
        {
          "output_type": "stream",
          "name": "stdout",
          "text": [
            "type of cuts:\n",
            "shape: (5,)\n",
            "Series: 'Cut' [str]\n",
            "[\n",
            "\t\"Good\"\n",
            "\t\"Very Good\"\n",
            "\t\"Signature-Ideal\"\n",
            "\t\"Ideal\"\n",
            "\t\"Fair\"\n",
            "]\n"
          ]
        }
      ],
      "source": [
        "cuts_type = df[\"Cut\"].unique()\n",
        "print(\"type of cuts:\")\n",
        "print(cuts_type)\n"
      ]
    },
    {
      "cell_type": "markdown",
      "metadata": {
        "id": "3ZzQWBYH8UOj"
      },
      "source": [
        "### Question 6: \"I'm meeting with our insurance company. They need to know our price exposure - what's our most and least valuable diamond?\""
      ]
    },
    {
      "cell_type": "code",
      "execution_count": 28,
      "metadata": {
        "colab": {
          "base_uri": "https://localhost:8080/"
        },
        "id": "wktdQkQQ8UOj",
        "outputId": "db6082ed-01f6-49cf-f710-06b127f52b94"
      },
      "outputs": [
        {
          "output_type": "stream",
          "name": "stdout",
          "text": [
            "Diamond with MAX price:\n",
            " shape: (1, 8)\n",
            "┌──────────────┬───────┬───────┬─────────┬────────┬──────────┬────────┬────────┐\n",
            "│ Carat Weight ┆ Cut   ┆ Color ┆ Clarity ┆ Polish ┆ Symmetry ┆ Report ┆ Price  │\n",
            "│ ---          ┆ ---   ┆ ---   ┆ ---     ┆ ---    ┆ ---      ┆ ---    ┆ ---    │\n",
            "│ f64          ┆ str   ┆ str   ┆ str     ┆ str    ┆ str      ┆ str    ┆ i64    │\n",
            "╞══════════════╪═══════╪═══════╪═════════╪════════╪══════════╪════════╪════════╡\n",
            "│ 2.79         ┆ Ideal ┆ D     ┆ IF      ┆ EX     ┆ EX       ┆ GIA    ┆ 101561 │\n",
            "└──────────────┴───────┴───────┴─────────┴────────┴──────────┴────────┴────────┘\n",
            "Diamond with MIN price:\n",
            " shape: (1, 8)\n",
            "┌──────────────┬──────┬───────┬─────────┬────────┬──────────┬────────┬───────┐\n",
            "│ Carat Weight ┆ Cut  ┆ Color ┆ Clarity ┆ Polish ┆ Symmetry ┆ Report ┆ Price │\n",
            "│ ---          ┆ ---  ┆ ---   ┆ ---     ┆ ---    ┆ ---      ┆ ---    ┆ ---   │\n",
            "│ f64          ┆ str  ┆ str   ┆ str     ┆ str    ┆ str      ┆ str    ┆ i64   │\n",
            "╞══════════════╪══════╪═══════╪═════════╪════════╪══════════╪════════╪═══════╡\n",
            "│ 0.77         ┆ Good ┆ I     ┆ VS1     ┆ VG     ┆ G        ┆ AGSL   ┆ 2184  │\n",
            "└──────────────┴──────┴───────┴─────────┴────────┴──────────┴────────┴───────┘\n"
          ]
        }
      ],
      "source": [
        "max_price_diamond = df.sort(\"Price\", descending=True).head(1)\n",
        "min_price_diamond = df.sort(\"Price\").head(1)\n",
        "\n",
        "print(\"Diamond with MAX price:\\n\", max_price_diamond)\n",
        "print(\"Diamond with MIN price:\\n\", min_price_diamond)"
      ]
    },
    {
      "cell_type": "markdown",
      "metadata": {
        "id": "PyOkPCwR8UOj"
      },
      "source": [
        "### Question 7: \"Which color grades should we focus on in our premium line? I need typical prices across our color spectrum.\"\n",
        "\n",
        "The CEO wants to understand pricing patterns."
      ]
    },
    {
      "cell_type": "code",
      "source": [
        "colourgrade= df.group_by('Color')\n",
        "print(colourgrade.head())\n",
        "print(colourgrade.agg(pl.col('Price')))"
      ],
      "metadata": {
        "id": "E7E8Db_QDClz",
        "outputId": "cc47c67b-0097-45d5-efd3-59276348c3bf",
        "colab": {
          "base_uri": "https://localhost:8080/"
        }
      },
      "execution_count": 37,
      "outputs": [
        {
          "output_type": "stream",
          "name": "stdout",
          "text": [
            "shape: (30, 8)\n",
            "┌───────┬──────────────┬───────────┬─────────┬────────┬──────────┬────────┬───────┐\n",
            "│ Color ┆ Carat Weight ┆ Cut       ┆ Clarity ┆ Polish ┆ Symmetry ┆ Report ┆ Price │\n",
            "│ ---   ┆ ---          ┆ ---       ┆ ---     ┆ ---    ┆ ---      ┆ ---    ┆ ---   │\n",
            "│ str   ┆ f64          ┆ str       ┆ str     ┆ str    ┆ str      ┆ str    ┆ i64   │\n",
            "╞═══════╪══════════════╪═══════════╪═════════╪════════╪══════════╪════════╪═══════╡\n",
            "│ D     ┆ 1.0          ┆ Very Good ┆ SI1     ┆ VG     ┆ G        ┆ GIA    ┆ 5747  │\n",
            "│ D     ┆ 0.91         ┆ Ideal     ┆ VS2     ┆ VG     ┆ VG       ┆ GIA    ┆ 6224  │\n",
            "│ D     ┆ 1.52         ┆ Ideal     ┆ VS1     ┆ EX     ┆ EX       ┆ GIA    ┆ 17659 │\n",
            "│ D     ┆ 2.04         ┆ Very Good ┆ VVS1    ┆ VG     ┆ VG       ┆ GIA    ┆ 41867 │\n",
            "│ D     ┆ 1.44         ┆ Ideal     ┆ SI1     ┆ G      ┆ G        ┆ GIA    ┆ 10768 │\n",
            "│ …     ┆ …            ┆ …         ┆ …       ┆ …      ┆ …        ┆ …      ┆ …     │\n",
            "│ I     ┆ 0.92         ┆ Good      ┆ VS2     ┆ VG     ┆ VG       ┆ GIA    ┆ 3679  │\n",
            "│ I     ┆ 1.28         ┆ Very Good ┆ VS1     ┆ EX     ┆ VG       ┆ GIA    ┆ 6726  │\n",
            "│ I     ┆ 1.01         ┆ Good      ┆ SI1     ┆ VG     ┆ VG       ┆ GIA    ┆ 4238  │\n",
            "│ I     ┆ 2.02         ┆ Good      ┆ VVS2    ┆ EX     ┆ VG       ┆ GIA    ┆ 19756 │\n",
            "│ I     ┆ 2.02         ┆ Very Good ┆ SI1     ┆ G      ┆ G        ┆ GIA    ┆ 14839 │\n",
            "└───────┴──────────────┴───────────┴─────────┴────────┴──────────┴────────┴───────┘\n",
            "shape: (6, 2)\n",
            "┌───────┬────────────────────────┐\n",
            "│ Color ┆ Price                  │\n",
            "│ ---   ┆ ---                    │\n",
            "│ str   ┆ list[i64]              │\n",
            "╞═══════╪════════════════════════╡\n",
            "│ F     ┆ [10450, 11004, … 6457] │\n",
            "│ D     ┆ [5747, 6224, … 6157]   │\n",
            "│ E     ┆ [4370, 12791, … 30507] │\n",
            "│ H     ┆ [5169, 3470, … 18866]  │\n",
            "│ G     ┆ [3171, 34361, … 11206] │\n",
            "│ I     ┆ [3679, 6726, … 26638]  │\n",
            "└───────┴────────────────────────┘\n"
          ]
        }
      ]
    },
    {
      "cell_type": "markdown",
      "metadata": {
        "id": "tzm7dvS28UOk"
      },
      "source": [
        "**Reflection:** After analyzing by color, how has your view of the data changed? What does each row in your result represent now?"
      ]
    },
    {
      "cell_type": "markdown",
      "metadata": {
        "id": "o5Ux-PLI8UOl"
      },
      "source": [
        "New grain = each row represents a colour of diamond."
      ]
    },
    {
      "cell_type": "markdown",
      "metadata": {
        "id": "jPW-_ZBn8UOl"
      },
      "source": [
        "## Section 3: Advanced Strategic Analysis (10 minutes)\n",
        "\n",
        "The CEO leans forward: \"These next questions will shape our strategy for next year.\""
      ]
    },
    {
      "cell_type": "markdown",
      "metadata": {
        "id": "NhiHC87P8UOl"
      },
      "source": [
        "### Question 8: \"We're thinking of specializing in certain clarity grades. For our investor deck, I need a complete breakdown showing: how many diamonds we have in each clarity grade, their typical price, and the total carats we're holding for each grade.\""
      ]
    },
    {
      "cell_type": "code",
      "execution_count": 41,
      "metadata": {
        "colab": {
          "base_uri": "https://localhost:8080/"
        },
        "id": "eFO9f_9G8UOl",
        "outputId": "edcf7385-b13e-4f77-ff20-4add50e5a8a9"
      },
      "outputs": [
        {
          "output_type": "stream",
          "name": "stdout",
          "text": [
            "shape: (7, 4)\n",
            "┌─────────┬───────────────┬──────────────┬──────────────┐\n",
            "│ Clarity ┆ diamond_count ┆ avg_price    ┆ total_carats │\n",
            "│ ---     ┆ ---           ┆ ---          ┆ ---          │\n",
            "│ str     ┆ u32           ┆ f64          ┆ f64          │\n",
            "╞═════════╪═══════════════╪══════════════╪══════════════╡\n",
            "│ VS2     ┆ 1575          ┆ 11809.053333 ┆ 2170.81      │\n",
            "│ SI1     ┆ 2059          ┆ 8018.864012  ┆ 2563.69      │\n",
            "│ VVS1    ┆ 285           ┆ 16845.680702 ┆ 389.43       │\n",
            "│ VS1     ┆ 1192          ┆ 13694.113255 ┆ 1682.74      │\n",
            "│ IF      ┆ 219           ┆ 22105.844749 ┆ 316.0        │\n",
            "│ FL      ┆ 4             ┆ 63776.0      ┆ 7.87         │\n",
            "│ VVS2    ┆ 666           ┆ 14142.177177 ┆ 876.58       │\n",
            "└─────────┴───────────────┴──────────────┴──────────────┘\n"
          ]
        }
      ],
      "source": [
        "clarity_breakdown = (\n",
        "    df.group_by(\"Clarity\")\n",
        "      .agg([\n",
        "          pl.len().alias(\"diamond_count\"),\n",
        "          pl.col(\"Price\").mean().alias(\"avg_price\"),\n",
        "          pl.col(\"Carat Weight\").sum().alias(\"total_carats\")\n",
        "      ]))\n",
        "\n",
        "print(clarity_breakdown)\n"
      ]
    },
    {
      "cell_type": "markdown",
      "metadata": {
        "id": "D6gKCRao8UOl"
      },
      "source": [
        "### Question 9: \"My luxury competitor claims they have the best prices for every cut-color combination. Show me our pricing structure across these combinations - I want to see where we're competitive.\""
      ]
    },
    {
      "cell_type": "code",
      "execution_count": 49,
      "metadata": {
        "colab": {
          "base_uri": "https://localhost:8080/"
        },
        "id": "s5eluk4C8UOl",
        "outputId": "504f3c9f-4ba7-4a28-b52d-492c90b752cc"
      },
      "outputs": [
        {
          "output_type": "stream",
          "name": "stdout",
          "text": [
            "shape: (30, 3)\n",
            "┌─────────────────┬───────┬──────────────┐\n",
            "│ Cut             ┆ Color ┆ avg_price    │\n",
            "│ ---             ┆ ---   ┆ ---          │\n",
            "│ str             ┆ str   ┆ f64          │\n",
            "╞═════════════════╪═══════╪══════════════╡\n",
            "│ Signature-Ideal ┆ D     ┆ 19823.1      │\n",
            "│ Ideal           ┆ F     ┆ 14729.426997 │\n",
            "│ Fair            ┆ E     ┆ 5370.625     │\n",
            "│ Very Good       ┆ I     ┆ 8930.031332  │\n",
            "│ Very Good       ┆ H     ┆ 10056.106132 │\n",
            "│ …               ┆ …     ┆ …            │\n",
            "│ Signature-Ideal ┆ G     ┆ 10248.296875 │\n",
            "│ Ideal           ┆ G     ┆ 13570.310145 │\n",
            "│ Good            ┆ F     ┆ 9274.007519  │\n",
            "│ Ideal           ┆ D     ┆ 18461.953571 │\n",
            "│ Very Good       ┆ F     ┆ 12413.905495 │\n",
            "└─────────────────┴───────┴──────────────┘\n"
          ]
        }
      ],
      "source": [
        "combo= (\n",
        "    df.group_by([\"Cut\", \"Color\"])\n",
        "      .agg([\n",
        "          pl.col(\"Price\").mean().alias(\"avg_price\"),\n",
        "      ]))\n",
        "\n",
        "print(combo)\n"
      ]
    },
    {
      "cell_type": "markdown",
      "metadata": {
        "id": "RhstzzzN8UOm"
      },
      "source": [
        "**Reflection:** How specific is your analysis now? What level of detail does each row represent?"
      ]
    },
    {
      "cell_type": "markdown",
      "metadata": {
        "id": "ANrA9ZWp8UOm"
      },
      "source": [
        "**Your answer:** New grain = Each row represents a cut-colour combination"
      ]
    },
    {
      "cell_type": "markdown",
      "metadata": {
        "id": "_REg8RIs8UOm"
      },
      "source": [
        "### Question 10: URGENT - \"Our biggest client is interested in purchasing entire inventory segments. They asked: 'Which color-cut combinations represent your highest total inventory value?' Show me the top 5 most valuable inventory segments by total worth, and include how many diamonds are in each segment.\"\n",
        "\n",
        "This is critical for tomorrow's negotiation."
      ]
    },
    {
      "cell_type": "code",
      "execution_count": 54,
      "metadata": {
        "colab": {
          "base_uri": "https://localhost:8080/"
        },
        "id": "4YrQACVr8UOm",
        "outputId": "dde81d76-d9ee-4a89-f595-0d1806917b7c"
      },
      "outputs": [
        {
          "output_type": "stream",
          "name": "stdout",
          "text": [
            "shape: (5, 4)\n",
            "┌───────────┬───────┬───────────────┬─────────────┐\n",
            "│ Cut       ┆ Color ┆ diamond_count ┆ total_price │\n",
            "│ ---       ┆ ---   ┆ ---           ┆ ---         │\n",
            "│ str       ┆ str   ┆ u32           ┆ i64         │\n",
            "╞═══════════╪═══════╪═══════════════╪═════════════╡\n",
            "│ Ideal     ┆ G     ┆ 690           ┆ 9363514     │\n",
            "│ Very Good ┆ G     ┆ 578           ┆ 7140620     │\n",
            "│ Very Good ┆ F     ┆ 455           ┆ 5648327     │\n",
            "│ Ideal     ┆ F     ┆ 363           ┆ 5346782     │\n",
            "│ Ideal     ┆ H     ┆ 458           ┆ 5279687     │\n",
            "└───────────┴───────┴───────────────┴─────────────┘\n"
          ]
        }
      ],
      "source": [
        "combo2= (\n",
        "    df.group_by([\"Cut\", \"Color\"])\n",
        "      .agg([\n",
        "          pl.len().alias(\"diamond_count\"),\n",
        "          pl.col(\"Price\").sum().alias(\"total_price\")\n",
        "      ])\n",
        "      .sort(\"total_price\", descending=True))\n",
        "\n",
        "print(combo2.head(5))\n"
      ]
    },
    {
      "cell_type": "markdown",
      "metadata": {
        "id": "TRggwvHi8UOm"
      },
      "source": [
        "## Debrief\n",
        "\n",
        "Congratulations! You've just completed your first day as the diamond company's data analyst.\n",
        "\n",
        "Remember:\n",
        "- CEOs speak in business language, not technical terms\n",
        "- Always understand what each row represents before analyzing\n",
        "- Business questions contain clues about which operations to use"
      ]
    }
  ],
  "metadata": {
    "kernelspec": {
      "display_name": "Python 3",
      "language": "python",
      "name": "python3"
    },
    "language_info": {
      "codemirror_mode": {
        "name": "ipython",
        "version": 3
      },
      "file_extension": ".py",
      "mimetype": "text/x-python",
      "name": "python",
      "nbconvert_exporter": "python",
      "pygments_lexer": "ipython3",
      "version": "3.12.0"
    },
    "colab": {
      "provenance": []
    }
  },
  "nbformat": 4,
  "nbformat_minor": 0
}